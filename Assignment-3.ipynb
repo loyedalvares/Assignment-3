{
 "cells": [
  {
   "cell_type": "code",
   "execution_count": 1,
   "metadata": {},
   "outputs": [],
   "source": [
    "#Task 1"
   ]
  },
  {
   "cell_type": "code",
   "execution_count": 23,
   "metadata": {},
   "outputs": [
    {
     "name": "stdout",
     "output_type": "stream",
     "text": [
      "The Computation of 5/0 was not possible.\n"
     ]
    }
   ],
   "source": [
    "# 1. Write a function to compute 5/0 and use try/except to catch the exceptions.\n",
    "\n",
    "def divide(a,b):\n",
    "    try:\n",
    "        result= a/b\n",
    "        print(\"The Computation of \" + str(a) + \"/\" + str(b) + \" is: \", result)\n",
    "    except:\n",
    "        print(\"The Computation of \" + str(a) + \"/\" + str(b) + \" was not possible.\")\n",
    "\n",
    "divide(5,0)"
   ]
  },
  {
   "cell_type": "code",
   "execution_count": 18,
   "metadata": {
    "scrolled": true
   },
   "outputs": [
    {
     "name": "stdout",
     "output_type": "stream",
     "text": [
      "Americans play Baseball\n",
      "Americans play Cricket\n",
      "Americans watch Baseball\n",
      "Americans watch Cricket\n",
      "Indians play Baseball\n",
      "Indians play Cricket\n",
      "Indians watch Baseball\n",
      "Indians watch Cricket\n"
     ]
    }
   ],
   "source": [
    "# 2. Implement a Python program to generate all sentences where subject is in [\"Americans\",\n",
    "#   \"Indians\"] and verb is in [\"Play\", \"watch\"] and the object is in [\"Baseball\",\"cricket\"].\n",
    "\n",
    "#  Hint: Subject,Verb and Object should be declared in the program as shown below.\n",
    "\n",
    "#  subjects=[\"Americans \",\"Indians\"]\n",
    "#  verbs=[\"play\",\"watch\"]\n",
    "#  objects=[\"Baseball\",\"Cricket\"]\n",
    "\n",
    "subjects=[\"Americans\",\"Indians\"]\n",
    "verbs=[\"play\",\"watch\"]\n",
    "objects=[\"Baseball\",\"Cricket\"]\n",
    "\n",
    "sentence = [' '.join([i,j,k]) for i in subjects for j in verbs for k in objects]\n",
    "for s in sentence:\n",
    "    print(s)"
   ]
  },
  {
   "cell_type": "code",
   "execution_count": 4,
   "metadata": {},
   "outputs": [],
   "source": [
    "#Task 2"
   ]
  },
  {
   "cell_type": "code",
   "execution_count": 15,
   "metadata": {},
   "outputs": [
    {
     "name": "stdout",
     "output_type": "stream",
     "text": [
      "*********** x=['1,2,3,4,5'] & N=4 & Increasing=True ***********\n",
      "[[  1   1   1   1]\n",
      " [  1   2   4   8]\n",
      " [  1   3   9  27]\n",
      " [  1   4  16  64]\n",
      " [  1   5  25 125]]\n",
      "\n",
      "\n",
      "*********** x=['1,2,3,4,5'] & N=4 & Increasing=False ***********\n",
      "[[  1   1   1   1]\n",
      " [  8   4   2   1]\n",
      " [ 27   9   3   1]\n",
      " [ 64  16   4   1]\n",
      " [125  25   5   1]]\n",
      "\n",
      "\n",
      "*********** x=['1,2,3,4,5'] & N=5 & Increasing=True ***********\n",
      "[[  1   1   1   1   1]\n",
      " [  1   2   4   8  16]\n",
      " [  1   3   9  27  81]\n",
      " [  1   4  16  64 256]\n",
      " [  1   5  25 125 625]]\n",
      "\n",
      "\n",
      "*********** x=['1,2,3,4,5'] & N=5 & Increasing=False ***********\n",
      "[[  1   1   1   1   1]\n",
      " [ 16   8   4   2   1]\n",
      " [ 81  27   9   3   1]\n",
      " [256  64  16   4   1]\n",
      " [625 125  25   5   1]]\n"
     ]
    }
   ],
   "source": [
    "# 1. Write a function so that the columns of the output matrix are powers of the input vector.\n",
    "#    The order of the powers is determined by the increasing boolean argument. Specifically, when\n",
    "#    increasing is False, the i-th output column is the input vector raised element-wise to the power\n",
    "#    of N - i - 1.\n",
    "   \n",
    "#    HINT: Such a matrix with a geometric progression in each row is named for Alexandre-Theophile Vandermonde.\n",
    "\n",
    "\n",
    "import numpy as np\n",
    "\n",
    "def vander_vector_fn(x,N, increasing):\n",
    "    x = np.array(x)\n",
    "    if x.ndim != 1:\n",
    "        print(\"x must be a one-dimensional array or sequence.\")\n",
    "        \n",
    "    v = np.empty((len(x), N), dtype=np.promote_types(x.dtype, int))\n",
    "    tmp = v[:, ::-1] if not increasing else v\n",
    "\n",
    "    if N > 0:\n",
    "        tmp[:, 0] = 1\n",
    "    if N > 1:\n",
    "        tmp[:, 1:] = x[:, None]\n",
    "        np.multiply.accumulate(tmp[:, 1:], out=tmp[:, 1:], axis=1)\n",
    "    return v\n",
    "\n",
    "x=np.array([1,2,3,4,5])\n",
    "\n",
    "N=4\n",
    "print(\"*********** x=['1,2,3,4,5'] & N=4 & Increasing=True ***********\")\n",
    "print(vander_vector_fn(x,N,True))\n",
    "\n",
    "print(\"\\n\\n*********** x=['1,2,3,4,5'] & N=4 & Increasing=False ***********\")\n",
    "print(vander_vector_fn(x,N,False))\n",
    "\n",
    "N=5\n",
    "print(\"\\n\\n*********** x=['1,2,3,4,5'] & N=5 & Increasing=True ***********\")\n",
    "print(vander_vector_fn(x,N,True))\n",
    "\n",
    "print(\"\\n\\n*********** x=['1,2,3,4,5'] & N=5 & Increasing=False ***********\")\n",
    "print(vander_vector_fn(x,N,False))"
   ]
  }
 ],
 "metadata": {
  "kernelspec": {
   "display_name": "Python 3",
   "language": "python",
   "name": "python3"
  },
  "language_info": {
   "codemirror_mode": {
    "name": "ipython",
    "version": 3
   },
   "file_extension": ".py",
   "mimetype": "text/x-python",
   "name": "python",
   "nbconvert_exporter": "python",
   "pygments_lexer": "ipython3",
   "version": "3.7.0"
  }
 },
 "nbformat": 4,
 "nbformat_minor": 2
}
